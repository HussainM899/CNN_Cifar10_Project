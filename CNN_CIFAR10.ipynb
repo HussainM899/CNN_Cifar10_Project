{
  "cells": [
    {
      "cell_type": "markdown",
      "metadata": {
        "id": "ZIWoshJ2zM5c"
      },
      "source": [
        "# **Convolutional Neural Network CNN - CIFAR10 Dataset**"
      ]
    },
    {
      "cell_type": "markdown",
      "metadata": {
        "id": "z72QA8sXzM5j"
      },
      "source": [
        "- ### **Import Libraries**"
      ]
    },
    {
      "cell_type": "code",
      "execution_count": 1,
      "metadata": {
        "id": "bwmZNRVBC_VI"
      },
      "outputs": [],
      "source": [
        "from keras.datasets import mnist\n",
        "\n",
        "from keras.models import Sequential\n",
        "from keras.layers import Dense, Conv2D, MaxPool2D, Flatten"
      ]
    },
    {
      "cell_type": "code",
      "execution_count": 2,
      "metadata": {
        "id": "5KHHKYPJDHfX"
      },
      "outputs": [],
      "source": [
        "from sklearn.metrics import classification_report"
      ]
    },
    {
      "cell_type": "markdown",
      "metadata": {
        "id": "29Wdpek4zM5n"
      },
      "source": [
        "- ### **Data Preparation**\n",
        "This section covers loading the CIFAR-10 dataset, scaling the images for our model, and preparing our labels for training. We aim for our model to understand and predict these labels accurately.\n"
      ]
    },
    {
      "cell_type": "code",
      "execution_count": 3,
      "metadata": {
        "colab": {
          "base_uri": "https://localhost:8080/"
        },
        "id": "1qf5nNBjDgHV",
        "outputId": "32016d2b-3579-4ab4-ca3d-5d7c14dd4b16"
      },
      "outputs": [
        {
          "name": "stdout",
          "output_type": "stream",
          "text": [
            "Downloading data from https://www.cs.toronto.edu/~kriz/cifar-10-python.tar.gz\n",
            "170498071/170498071 [==============================] - 2s 0us/step\n"
          ]
        }
      ],
      "source": [
        "from keras.utils import to_categorical\n",
        "from keras.datasets import cifar10\n",
        "(x_train, y_train), (x_test, y_test) = cifar10.load_data()"
      ]
    },
    {
      "cell_type": "code",
      "execution_count": 4,
      "metadata": {
        "id": "Tb-N89giDhxQ"
      },
      "outputs": [],
      "source": [
        "import matplotlib.pyplot as plt"
      ]
    },
    {
      "cell_type": "code",
      "execution_count": 5,
      "metadata": {
        "colab": {
          "base_uri": "https://localhost:8080/"
        },
        "id": "vbtZ1a2ZD5Pz",
        "outputId": "ad5a34fb-0fac-4271-9dcc-41b0c72a56fc"
      },
      "outputs": [
        {
          "data": {
            "text/plain": [
              "(50000, 32, 32, 3)"
            ]
          },
          "execution_count": 5,
          "metadata": {},
          "output_type": "execute_result"
        }
      ],
      "source": [
        "# Check the shape of input features\n",
        "x_train.shape"
      ]
    },
    {
      "cell_type": "code",
      "execution_count": 6,
      "metadata": {
        "colab": {
          "base_uri": "https://localhost:8080/",
          "height": 447
        },
        "id": "i8C2x5waD7bS",
        "outputId": "1cc16907-2517-4fa3-8bc4-df473bf04c34"
      },
      "outputs": [
        {
          "data": {
            "text/plain": [
              "<matplotlib.image.AxesImage at 0x7ae20af3d7b0>"
            ]
          },
          "execution_count": 6,
          "metadata": {},
          "output_type": "execute_result"
        },
        {
          "data": {
            "image/png": "[encoded data removed]",
            "text/plain": [
              "<Figure size 640x480 with 1 Axes>"
            ]
          },
          "metadata": {},
          "output_type": "display_data"
        }
      ],
      "source": [
        "# Display Image\n",
        "\n",
        "single_image  = x_train[30]\n",
        "\n",
        "plt.imshow(single_image)"
      ]
    },
    {
      "cell_type": "code",
      "execution_count": 7,
      "metadata": {
        "colab": {
          "base_uri": "https://localhost:8080/"
        },
        "id": "qXSoI65dEGew",
        "outputId": "666f1838-ca50-43c1-d8b5-8e64d36d6f6e"
      },
      "outputs": [
        {
          "data": {
            "text/plain": [
              "array([[6],\n",
              "       [9],\n",
              "       [9],\n",
              "       ...,\n",
              "       [9],\n",
              "       [1],\n",
              "       [1]], dtype=uint8)"
            ]
          },
          "execution_count": 7,
          "metadata": {},
          "output_type": "execute_result"
        }
      ],
      "source": [
        "y_train"
      ]
    },
    {
      "cell_type": "code",
      "execution_count": 8,
      "metadata": {
        "colab": {
          "base_uri": "https://localhost:8080/"
        },
        "id": "48qdYMylEoL1",
        "outputId": "484e43e4-bd23-4dbf-ba1f-dda68a9a7622"
      },
      "outputs": [
        {
          "data": {
            "text/plain": [
              "array([[3],\n",
              "       [8],\n",
              "       [8],\n",
              "       ...,\n",
              "       [5],\n",
              "       [1],\n",
              "       [7]], dtype=uint8)"
            ]
          },
          "execution_count": 8,
          "metadata": {},
          "output_type": "execute_result"
        }
      ],
      "source": [
        "y_test"
      ]
    },
    {
      "cell_type": "code",
      "execution_count": 9,
      "metadata": {
        "id": "jAEcbYxwEpzW"
      },
      "outputs": [],
      "source": [
        "from tensorflow.keras.utils import to_categorical"
      ]
    },
    {
      "cell_type": "code",
      "execution_count": 10,
      "metadata": {
        "colab": {
          "base_uri": "https://localhost:8080/"
        },
        "id": "AwJ0XKb5FBQM",
        "outputId": "e7f16042-63d5-4d26-f7a5-b099bffa5498"
      },
      "outputs": [
        {
          "data": {
            "text/plain": [
              "(50000, 1)"
            ]
          },
          "execution_count": 10,
          "metadata": {},
          "output_type": "execute_result"
        }
      ],
      "source": [
        "y_train.shape"
      ]
    },
    {
      "cell_type": "markdown",
      "metadata": {
        "id": "dk9PTtzwzM5w"
      },
      "source": [
        "- ### **Why Use `to_categorical`?**\n",
        "The `to_categorical` method transforms integer labels into a one-hot encoded format, crucial for multi-class classification in neural networks. This encoding matches the softmax output of the network's final layer, simplifying loss calculations and optimizing model training. It ensures each label is represented as a vector, indicating the class presence with a 1 in the corresponding position, making it compatible with the expected format for neural network outputs."
      ]
    },
    {
      "cell_type": "code",
      "execution_count": 11,
      "metadata": {
        "colab": {
          "base_uri": "https://localhost:8080/"
        },
        "id": "e-N12pdGFGwt",
        "outputId": "abc03044-6fc0-40dd-9959-d1dd82d007db"
      },
      "outputs": [
        {
          "data": {
            "text/plain": [
              "array([[0., 0., 0., ..., 0., 0., 0.],\n",
              "       [0., 0., 0., ..., 0., 0., 1.],\n",
              "       [0., 0., 0., ..., 0., 0., 1.],\n",
              "       ...,\n",
              "       [0., 0., 0., ..., 0., 0., 1.],\n",
              "       [0., 1., 0., ..., 0., 0., 0.],\n",
              "       [0., 1., 0., ..., 0., 0., 0.]], dtype=float32)"
            ]
          },
          "execution_count": 11,
          "metadata": {},
          "output_type": "execute_result"
        }
      ],
      "source": [
        "y_example = to_categorical(y_train)\n",
        "\n",
        "y_example\n"
      ]
    },
    {
      "cell_type": "code",
      "execution_count": 12,
      "metadata": {
        "colab": {
          "base_uri": "https://localhost:8080/"
        },
        "id": "i5Ha_afJGIJ3",
        "outputId": "88cca9ec-87fc-4501-a8e9-4b14ce8d5c5f"
      },
      "outputs": [
        {
          "data": {
            "text/plain": [
              "(50000, 10)"
            ]
          },
          "execution_count": 12,
          "metadata": {},
          "output_type": "execute_result"
        }
      ],
      "source": [
        "y_example.shape"
      ]
    },
    {
      "cell_type": "code",
      "execution_count": 13,
      "metadata": {
        "colab": {
          "base_uri": "https://localhost:8080/"
        },
        "id": "LYBmqGCVGPEJ",
        "outputId": "79aa5139-4422-4661-c049-a97235ba2478"
      },
      "outputs": [
        {
          "data": {
            "text/plain": [
              "array([[0., 0., 0., ..., 0., 0., 0.],\n",
              "       [0., 0., 0., ..., 0., 0., 1.],\n",
              "       [0., 0., 0., ..., 0., 0., 1.],\n",
              "       ...,\n",
              "       [0., 0., 0., ..., 0., 0., 1.],\n",
              "       [0., 1., 0., ..., 0., 0., 0.],\n",
              "       [0., 1., 0., ..., 0., 0., 0.]], dtype=float32)"
            ]
          },
          "execution_count": 13,
          "metadata": {},
          "output_type": "execute_result"
        }
      ],
      "source": [
        "y_cat_train = to_categorical(y_train, 10)\n",
        "y_cat_train"
      ]
    },
    {
      "cell_type": "code",
      "execution_count": 14,
      "metadata": {
        "colab": {
          "base_uri": "https://localhost:8080/"
        },
        "id": "zIAaQM5nH3u2",
        "outputId": "4f574f83-2dd8-4fbb-ba94-63e616424833"
      },
      "outputs": [
        {
          "data": {
            "text/plain": [
              "array([[0., 0., 0., ..., 0., 0., 0.],\n",
              "       [0., 0., 0., ..., 0., 1., 0.],\n",
              "       [0., 0., 0., ..., 0., 1., 0.],\n",
              "       ...,\n",
              "       [0., 0., 0., ..., 0., 0., 0.],\n",
              "       [0., 1., 0., ..., 0., 0., 0.],\n",
              "       [0., 0., 0., ..., 1., 0., 0.]], dtype=float32)"
            ]
          },
          "execution_count": 14,
          "metadata": {},
          "output_type": "execute_result"
        }
      ],
      "source": [
        "y_cat_test = to_categorical(y_test, 10)\n",
        "y_cat_test"
      ]
    },
    {
      "cell_type": "code",
      "execution_count": 15,
      "metadata": {
        "colab": {
          "base_uri": "https://localhost:8080/"
        },
        "id": "U-XirM-LH_AG",
        "outputId": "20ee9170-22a8-4c53-83e7-30ba08b9a7b3"
      },
      "outputs": [
        {
          "data": {
            "text/plain": [
              "241"
            ]
          },
          "execution_count": 15,
          "metadata": {},
          "output_type": "execute_result"
        }
      ],
      "source": [
        "# This gives the max pixel value present in this picture\n",
        "\n",
        "single_image.max()"
      ]
    },
    {
      "cell_type": "code",
      "execution_count": 16,
      "metadata": {
        "colab": {
          "base_uri": "https://localhost:8080/"
        },
        "id": "mB6FmABHIC5H",
        "outputId": "8392f523-3f93-445b-a240-a6130a4489ac"
      },
      "outputs": [
        {
          "data": {
            "text/plain": [
              "5"
            ]
          },
          "execution_count": 16,
          "metadata": {},
          "output_type": "execute_result"
        }
      ],
      "source": [
        "# This gives the min pixel value present in this picture\n",
        "\n",
        "single_image.min()"
      ]
    },
    {
      "cell_type": "markdown",
      "metadata": {
        "id": "DhwbuyxfzM52"
      },
      "source": [
        "- ### **Scaling the input features**"
      ]
    },
    {
      "cell_type": "code",
      "execution_count": 17,
      "metadata": {
        "id": "LmM0aJ-3IMOb"
      },
      "outputs": [],
      "source": [
        "x_train = x_train/255\n",
        "x_test = x_test/255"
      ]
    },
    {
      "cell_type": "code",
      "execution_count": 18,
      "metadata": {
        "id": "fZjtmhKXKT1i"
      },
      "outputs": [],
      "source": [
        "scaled_image = x_train[30]"
      ]
    },
    {
      "cell_type": "code",
      "execution_count": 19,
      "metadata": {
        "colab": {
          "base_uri": "https://localhost:8080/"
        },
        "id": "4TMBrLv_Kxl9",
        "outputId": "28192794-e9ce-4eff-b0e0-563918b4c840"
      },
      "outputs": [
        {
          "data": {
            "text/plain": [
              "0.9450980392156862"
            ]
          },
          "execution_count": 19,
          "metadata": {},
          "output_type": "execute_result"
        }
      ],
      "source": [
        "scaled_image.max()"
      ]
    },
    {
      "cell_type": "code",
      "execution_count": 20,
      "metadata": {
        "colab": {
          "base_uri": "https://localhost:8080/"
        },
        "id": "xrWFO3WRLYdM",
        "outputId": "b181baf6-12f1-4844-e8d6-4e23dab19fab"
      },
      "outputs": [
        {
          "data": {
            "text/plain": [
              "0.0196078431372549"
            ]
          },
          "execution_count": 20,
          "metadata": {},
          "output_type": "execute_result"
        }
      ],
      "source": [
        "scaled_image.min()"
      ]
    },
    {
      "cell_type": "markdown",
      "metadata": {
        "id": "Sc1jTTy0zM54"
      },
      "source": [
        "- ### **CNN Model Building**"
      ]
    },
    {
      "cell_type": "code",
      "execution_count": 21,
      "metadata": {
        "id": "B4EYb3lkLaNh"
      },
      "outputs": [],
      "source": [
        "from keras.models import Sequential\n",
        "from keras.layers import Dense, Conv2D, MaxPool2D, Flatten"
      ]
    },
    {
      "cell_type": "code",
      "execution_count": 22,
      "metadata": {
        "id": "18KlGlwnLu9X"
      },
      "outputs": [],
      "source": [
        "from keras.models import Sequential\n",
        "from keras.layers import Dense, Conv2D, MaxPooling2D, Flatten, Dropout\n",
        "\n",
        "model = Sequential()\n",
        "\n",
        "# Convolutional layers with ReLU activation\n",
        "model.add(Conv2D(32, (3, 3), activation='relu', input_shape=(32, 32, 3)))\n",
        "model.add(MaxPooling2D((2, 2)))\n",
        "model.add(Conv2D(64, (3, 3), activation='relu'))\n",
        "model.add(MaxPooling2D((2, 2)))\n",
        "model.add(Conv2D(32, (3, 3), activation='relu'))\n",
        "\n",
        "# Flattening the output for the dense layers\n",
        "model.add(Flatten())\n",
        "# Dense layers with ReLU activation\n",
        "model.add(Dense(64, activation='relu'))\n",
        "\n",
        "model.add(Dense(32, activation='relu'))\n",
        "\n",
        "# Output layer with Softmax activation\n",
        "model.add(Dense(10, activation='softmax'))"
      ]
    },
    {
      "cell_type": "code",
      "execution_count": 23,
      "metadata": {
        "id": "HaJDFHshL7dc"
      },
      "outputs": [],
      "source": [
        "model.compile(loss='categorical_crossentropy',\n",
        "              optimizer='rmsprop',\n",
        "              metrics=['accuracy'])"
      ]
    },
    {
      "cell_type": "code",
      "execution_count": 24,
      "metadata": {
        "colab": {
          "base_uri": "https://localhost:8080/"
        },
        "id": "Seyo076XNJN2",
        "outputId": "76118446-5744-464a-88d8-e05ca2959157"
      },
      "outputs": [
        {
          "name": "stdout",
          "output_type": "stream",
          "text": [
            "Model: \"sequential\"\n",
            "_________________________________________________________________\n",
            " Layer (type)                Output Shape              Param #   \n",
            "=================================================================\n",
            " conv2d (Conv2D)             (None, 30, 30, 32)        896       \n",
            "                                                                 \n",
            " max_pooling2d (MaxPooling2  (None, 15, 15, 32)        0         \n",
            " D)                                                              \n",
            "                                                                 \n",
            " conv2d_1 (Conv2D)           (None, 13, 13, 64)        18496     \n",
            "                                                                 \n",
            " max_pooling2d_1 (MaxPoolin  (None, 6, 6, 64)          0         \n",
            " g2D)                                                            \n",
            "                                                                 \n",
            " conv2d_2 (Conv2D)           (None, 4, 4, 32)          18464     \n",
            "                                                                 \n",
            " flatten (Flatten)           (None, 512)               0         \n",
            "                                                                 \n",
            " dense (Dense)               (None, 64)                32832     \n",
            "                                                                 \n",
            " dense_1 (Dense)             (None, 32)                2080      \n",
            "                                                                 \n",
            " dense_2 (Dense)             (None, 10)                330       \n",
            "                                                                 \n",
            "=================================================================\n",
            "Total params: 73098 (285.54 KB)\n",
            "Trainable params: 73098 (285.54 KB)\n",
            "Non-trainable params: 0 (0.00 Byte)\n",
            "_________________________________________________________________\n"
          ]
        }
      ],
      "source": [
        "model.summary()"
      ]
    },
    {
      "cell_type": "markdown",
      "metadata": {
        "id": "7a9C3rEE7PWF"
      },
      "source": [
        "- ### **Model Architecture Summary**\n",
        "\n",
        "Our CNN model is designed to classify 32x32 pixel images from the CIFAR-10 dataset into one of 10 categories (like cars, birds, etc.). Here's the structure:\n",
        "\n",
        "- **Convolutional Layers**: Extract patterns from images using filters. We have layers with 32, 64, and again 32 filters, each 3x3 in size. More filters help in detecting complex features.\n",
        "\n",
        "- **MaxPooling Layers**: Reduce the image dimensionality to make the processing faster and more efficient without losing key features.\n",
        "\n",
        "- **Flatten Layer**: Transforms the 2D feature maps into a 1D feature vector, preparing the data for the fully connected layers that follow.\n",
        "\n",
        "- **Dense Layers**: These are the neural network's decision-makers. We start broad with 64 neurons, narrow down to 32, and finally to 10 neurons, each representing a class of the CIFAR-10 dataset.\n",
        "\n",
        "- **Output Layer with Softmax**: Gives us a probability for each of the 10 classes, indicating how likely the image belongs to each class.\n",
        "\n",
        "The model has a total of 73,098 parameters, all of which are trainable, meaning they're updated during the learning process to improve classification accuracy.\n"
      ]
    },
    {
      "cell_type": "code",
      "execution_count": 25,
      "metadata": {
        "colab": {
          "base_uri": "https://localhost:8080/"
        },
        "id": "2XuVVscCNKpl",
        "outputId": "c8b59903-cf20-431f-b371-37fe3a85ed1d"
      },
      "outputs": [
        {
          "name": "stdout",
          "output_type": "stream",
          "text": [
            "Epoch 1/10\n",
            "1563/1563 [==============================] - 39s 25ms/step - loss: 1.6366 - accuracy: 0.4027\n",
            "Epoch 2/10\n",
            "1563/1563 [==============================] - 37s 24ms/step - loss: 1.2435 - accuracy: 0.5577\n",
            "Epoch 3/10\n",
            "1563/1563 [==============================] - 37s 24ms/step - loss: 1.0777 - accuracy: 0.6201\n",
            "Epoch 4/10\n",
            "1563/1563 [==============================] - 36s 23ms/step - loss: 0.9685 - accuracy: 0.6619\n",
            "Epoch 5/10\n",
            "1563/1563 [==============================] - 37s 24ms/step - loss: 0.8926 - accuracy: 0.6882\n",
            "Epoch 6/10\n",
            "1563/1563 [==============================] - 36s 23ms/step - loss: 0.8340 - accuracy: 0.7088\n",
            "Epoch 7/10\n",
            "1563/1563 [==============================] - 37s 24ms/step - loss: 0.7827 - accuracy: 0.7280\n",
            "Epoch 8/10\n",
            "1563/1563 [==============================] - 41s 26ms/step - loss: 0.7434 - accuracy: 0.7399\n",
            "Epoch 9/10\n",
            "1563/1563 [==============================] - 40s 25ms/step - loss: 0.7111 - accuracy: 0.7556\n",
            "Epoch 10/10\n",
            "1563/1563 [==============================] - 39s 25ms/step - loss: 0.6809 - accuracy: 0.7652\n"
          ]
        },
        {
          "data": {
            "text/plain": [
              "<keras.src.callbacks.History at 0x7ae1a4b7aa70>"
            ]
          },
          "execution_count": 25,
          "metadata": {},
          "output_type": "execute_result"
        }
      ],
      "source": [
        "model.fit(x_train, y_cat_train, epochs = 10)"
      ]
    },
    {
      "cell_type": "markdown",
      "metadata": {
        "id": "IOtZVFyo7vW2"
      },
      "source": [
        "- ### **Training Performance**\n",
        "\n",
        "The model was trained for 10 epochs, showing gradual improvement in accuracy with each epoch:\n",
        "\n",
        "- **First Epoch**: The model had a low accuracy of about 40%, indicating the starting point of learning.\n",
        "- **Progress Over Epochs**: With each epoch, the model's accuracy increased as it learned from the training data, showing that it was becoming better at classifying the images.\n",
        "- **Tenth Epoch**: By the last epoch, the model achieved an accuracy of around 76%, which means it correctly classified 76% of the training images.\n",
        "\n",
        "Loss, a measure of error, decreased from approximately 1.63 to 0.68, indicating the model's predictions were getting closer to the actual labels.\n",
        "\n",
        "While accuracy improved over time, further optimization may be needed to increase accuracy and reduce loss further, suggesting the model hasn't yet reached its peak performance.\n"
      ]
    },
    {
      "cell_type": "code",
      "execution_count": 27,
      "metadata": {
        "colab": {
          "base_uri": "https://localhost:8080/"
        },
        "id": "E6lGnVdyNbAR",
        "outputId": "dc67338c-2ac7-41e9-8b6c-b16fa996aefc"
      },
      "outputs": [
        {
          "name": "stdout",
          "output_type": "stream",
          "text": [
            "313/313 [==============================] - 5s 16ms/step - loss: 0.9603 - accuracy: 0.6932\n",
            "Test accuracy:  0.6931999921798706\n",
            "313/313 [==============================] - 5s 17ms/step\n",
            "              precision    recall  f1-score   support\n",
            "\n",
            "           0       0.73      0.70      0.71      1000\n",
            "           1       0.86      0.81      0.84      1000\n",
            "           2       0.47      0.71      0.56      1000\n",
            "           3       0.54      0.54      0.54      1000\n",
            "           4       0.69      0.64      0.66      1000\n",
            "           5       0.69      0.49      0.57      1000\n",
            "           6       0.77      0.75      0.76      1000\n",
            "           7       0.81      0.71      0.75      1000\n",
            "           8       0.69      0.89      0.78      1000\n",
            "           9       0.86      0.71      0.78      1000\n",
            "\n",
            "    accuracy                           0.69     10000\n",
            "   macro avg       0.71      0.69      0.70     10000\n",
            "weighted avg       0.71      0.69      0.70     10000\n",
            "\n",
            "[[698  15  86  12  11   4   7   2 133  32]\n",
            " [ 21 810  18   8  11   3  11   3  69  46]\n",
            " [ 62   4 711  41  63  25  43  26  21   4]\n",
            " [ 22   7 147 537  45 102  76  31  23  10]\n",
            " [ 17   2 150  61 635  27  35  48  24   1]\n",
            " [ 20   3 165 201  42 486  27  37  16   3]\n",
            " [  7   3 114  60  37   5 750   4  14   6]\n",
            " [ 23   1  91  42  69  42   9 706   8   9]\n",
            " [ 46  19  16  12   2   2   5   3 885  10]\n",
            " [ 40  74  24  21  10   4  15  17  81 714]]\n"
          ]
        }
      ],
      "source": [
        "# Evaluate the model on the test set\n",
        "test_loss, test_accuracy = model.evaluate(x_test, y_cat_test)\n",
        "print(\"Test accuracy: \", test_accuracy)\n",
        "\n",
        "# For more detailed metrics\n",
        "from sklearn.metrics import classification_report, confusion_matrix\n",
        "\n",
        "# Predict classes with model\n",
        "import numpy as np\n",
        "\n",
        "predictions = model.predict(x_test)\n",
        "predicted_classes = np.argmax(predictions, axis=1)\n",
        "\n",
        "# Actual classes\n",
        "true_classes = np.argmax(y_cat_test, axis=1)\n",
        "\n",
        "# Generate and print classification report and confusion matrix\n",
        "print(classification_report(true_classes, predicted_classes))\n",
        "print(confusion_matrix(true_classes, predicted_classes))\n"
      ]
    },
    {
      "cell_type": "markdown",
      "metadata": {
        "id": "DCx1zr758aHM"
      },
      "source": [
        "- ### **Model Evaluation on Test Data**\n",
        "\n",
        "The model's performance was evaluated on the test set, which is a separate dataset not seen by the model during training. The purpose is to assess how well the model generalizes to new data.\n",
        "\n",
        "- **Test Accuracy**: The model achieved a test accuracy of approximately 69.32%. This means that it correctly predicted the class of an image about 69% of the time on the test dataset.\n",
        "\n",
        "- **Precision and Recall**: The classification report provides precision (the ratio of correctly predicted positive observations to the total predicted positives) and recall (the ratio of correctly predicted positive observations to all actual positives) for each class:\n",
        "  - Classes with higher precision and recall are better predicted by the model.\n",
        "  - Classes with lower scores may need more data or model adjustments to improve predictions.\n",
        "\n",
        "- **F1-Score**: This is the harmonic mean of precision and recall and gives a combined idea about the false positives and false negatives. An F1-score reaches its best value at 1 (perfect precision and recall) and worst at 0.\n",
        "\n",
        "- **Confusion Matrix**: It shows the actual versus predicted classifications. For instance, the number of times the model predicted each class compared to the actual class labels. This can help identify which classes are being confused with others.\n",
        "\n",
        "The provided metrics are key to understanding the model's strengths and weaknesses in classifying the CIFAR-10 dataset. To further improve the model, you may consider refining the model architecture, training for more epochs, or using techniques like data augmentation and hyperparameter tuning.\n"
      ]
    }
  ],
  "metadata": {
    "accelerator": "GPU",
    "colab": {
      "gpuType": "T4",
      "provenance": []
    },
    "kernelspec": {
      "display_name": "Python 3",
      "name": "python3"
    },
    "language_info": {
      "codemirror_mode": {
        "name": "ipython",
        "version": 3
      },
      "file_extension": ".py",
      "mimetype": "text/x-python",
      "name": "python",
      "nbconvert_exporter": "python",
      "pygments_lexer": "ipython3",
      "version": "3.11.4"
    }
  },
  "nbformat": 4,
  "nbformat_minor": 0
}
